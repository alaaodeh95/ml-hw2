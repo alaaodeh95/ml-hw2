{
 "cells": [
  {
   "cell_type": "markdown",
   "id": "60a7946f-7692-45cb-bfea-1345f23a05a0",
   "metadata": {},
   "source": [
    "# Imports"
   ]
  },
  {
   "cell_type": "code",
   "execution_count": null,
   "id": "4b90409d-fdf5-4f0d-bc8b-9dd554b71f0e",
   "metadata": {
    "tags": []
   },
   "outputs": [],
   "source": [
    "import tensorflow as tf\n",
    "import numpy as np\n",
    "import matplotlib.pyplot as plt\n",
    "from sklearn.model_selection import train_test_split"
   ]
  },
  {
   "cell_type": "markdown",
   "id": "b7a976e4-10b4-4d2a-b7a6-b0cb869eae28",
   "metadata": {},
   "source": [
    "# Constants"
   ]
  },
  {
   "cell_type": "code",
   "execution_count": null,
   "id": "988858e8-99ba-4c93-8bee-f953254c680f",
   "metadata": {
    "tags": []
   },
   "outputs": [],
   "source": [
    "n_samples = 10000\n",
    "test_samples = 3000\n",
    "a1 = np.array([3, 3], dtype=np.float32)\n",
    "a2 = np.array([-3, -3], dtype=np.float32)\n",
    "epoch_counts = [5, 10, 20, 50, 75, 100]\n",
    "neuron_counts = range(1, 21)"
   ]
  },
  {
   "cell_type": "markdown",
   "id": "39b5ad16-fabf-4f18-99cd-5d4dfc46c85c",
   "metadata": {},
   "source": [
    "# Generate train and test data"
   ]
  },
  {
   "cell_type": "code",
   "execution_count": null,
   "id": "b322ebfc-e368-4bdb-b392-34d96c48679e",
   "metadata": {
    "tags": []
   },
   "outputs": [],
   "source": [
    "# Define the data generation function\n",
    "def generate_data(n):\n",
    "    X = np.random.randn(n, 2).astype(np.float32)\n",
    "    Z = np.random.standard_normal((n, 1)).astype(np.float32)\n",
    "    Y = (tf.nn.sigmoid(a1 @ X.T) + ((a2 @ X.T)**2) + (0.30 * Z)).numpy()\n",
    "    return X, Y\n",
    "\n",
    "# Data preparation\n",
    "X_train, Y_train = generate_data(n_samples)\n",
    "X_test, Y_test = generate_data(test_samples)"
   ]
  },
  {
   "cell_type": "markdown",
   "id": "cbbc4d5f-2eab-43a4-8171-46db5ea8145a",
   "metadata": {},
   "source": [
    "# Part 1:\n",
    "### Plot the training and test error curves as a function of the number of training epochs (Use the root mean squared error metric RMSE to evaluate the training and test errors), try several epochs numbers i.e. 5, 10, 20, 50, ,75 ,100. Discuss the overfitting behavior in each case"
   ]
  },
  {
   "cell_type": "code",
   "execution_count": null,
   "id": "d3a9ca31-8243-45ea-a362-16a3a114be7c",
   "metadata": {},
   "outputs": [],
   "source": [
    "# Create the model defention\n",
    "def create_model():\n",
    "    model = tf.keras.Sequential([\n",
    "        tf.keras.layers.Dense(10, activation='sigmoid', input_shape=(2,)),\n",
    "        tf.keras.layers.Dense(1, activation='linear')\n",
    "    ])\n",
    "    model.compile(loss='mse')\n",
    "    return model\n",
    "\n",
    "# Setup grid for drawing the results\n",
    "fig, axes = plt.subplots(nrows=2, ncols=3, figsize=(15, 10)) \n",
    "axes = axes.flatten()\n",
    "\n",
    "# Try for each epoch count\n",
    "for i, epochs in enumerate(epoch_counts):\n",
    "    model = create_model()\n",
    "    history = model.fit(X_train, Y_train, epochs=epochs, validation_data=(X_test, Y_test), verbose=0)\n",
    "\n",
    "    # RMSE\n",
    "    train_rmse = np.sqrt(history.history['loss'])\n",
    "    test_rmse = np.sqrt(history.history['val_loss'])\n",
    "\n",
    "    # Plotting\n",
    "    ax = axes[i]\n",
    "    ax.plot(range(1, epochs + 1), train_rmse, label='Train RMSE')\n",
    "    ax.plot(range(1, epochs + 1), test_rmse, label='Test RMSE')\n",
    "    ax.set_title(f'RMSE over {epochs} Epochs')\n",
    "    ax.set_xlabel('Epochs')\n",
    "    ax.set_ylabel('RMSE')\n",
    "    ax.legend()\n",
    "\n",
    "    # Annotate final RMSE values\n",
    "    final_train_rmse = train_rmse[-1]\n",
    "    final_test_rmse = test_rmse[-1]\n",
    "    ax.text(0.5, 0.9, f'Final Train RMSE: {final_train_rmse:.4f}', transform=ax.transAxes, ha='center', va='top', fontsize=10, color='blue')\n",
    "    ax.text(0.5, 0.85, f'Final Test RMSE: {final_test_rmse:.4f}', transform=ax.transAxes, ha='center', va='top', fontsize=10, color='green')\n",
    "\n",
    "# Adjust layout and show plot\n",
    "plt.tight_layout()\n",
    "plt.show()"
   ]
  },
  {
   "cell_type": "raw",
   "id": "4c8b53f1-bd46-4854-ada8-56220419bbd4",
   "metadata": {},
   "source": [
    "RMSE over 5 Epochs: We can see both traning and testing error decreases and there is no sign for overfitting, the model is still learning and needs more epochs. \n",
    "\n",
    "RMSE over 10 Epochs:\n",
    "The model start generalize at the 7th epoch, and it fixes the underfitting at the 5th epoch.\n",
    "\n",
    "RMSE over 20 Epochs, 50 epochs, 75 epochs. and 100 epochs:\n",
    "It seems all these three expirements used a similar initial weights which resulted in similar results where the model continue learning unitl the 9th epoch where it basically stop learning after that.\n",
    "There is no sign of overfitting since both training and test error start decreasing but in general they are both have the same gap between each other.\n",
    "This could also indicate the model has some kind of underfitting because of the high rmse and the model need archecticture enhancment."
   ]
  },
  {
   "cell_type": "markdown",
   "id": "28cc46ff-e820-4ea6-b13e-ed53b6181453",
   "metadata": {},
   "source": [
    "# Part 2\n",
    "### Vary the number of hidden layer in the network, from 1 up to 20, and determine the minimum number needed to perform well for this task."
   ]
  },
  {
   "cell_type": "code",
   "execution_count": null,
   "id": "789edfd7-8199-4602-abe0-7cbc15f8c910",
   "metadata": {
    "tags": []
   },
   "outputs": [],
   "source": [
    "def create_model(num_hidden_layers, neurons_per_layer=10):\n",
    "    model = tf.keras.Sequential()\n",
    "    for _ in range(num_hidden_layers):\n",
    "        model.add(tf.keras.layers.Dense(neurons_per_layer, activation='sigmoid', input_shape=(2,)))\n",
    "    model.add(tf.keras.layers.Dense(1, activation='linear'))\n",
    "    return model\n",
    "\n",
    "layer_counts = range(1, 21)\n",
    "train_rmse_results = []\n",
    "test_rmse_results = []\n",
    "\n",
    "for layers in layer_counts:\n",
    "    model = create_model(num_hidden_layers=layers)\n",
    "    model.compile(loss='mse')\n",
    "    \n",
    "    history = model.fit(X_train, Y_train, epochs=50, validation_data=(X_test, Y_test), verbose=0)\n",
    "    \n",
    "    # Calculate RMSE for training and test\n",
    "    train_rmse = np.sqrt(history.history['loss'][-1])\n",
    "    test_rmse = np.sqrt(history.history['val_loss'][-1])\n",
    "    \n",
    "    train_rmse_results.append(train_rmse)\n",
    "    test_rmse_results.append(test_rmse)\n",
    "\n",
    "# Plotting results\n",
    "plt.figure(figsize=(10, 6))\n",
    "plt.plot(layer_counts, train_rmse_results, label='Train RMSE')\n",
    "plt.plot(layer_counts, test_rmse_results, label='Test RMSE')\n",
    "plt.xlabel('Number of Hidden Layers')\n",
    "plt.ylabel('RMSE')\n",
    "plt.title('Effect of Hidden Layer Count on Model Performance')\n",
    "plt.legend()\n",
    "plt.grid(True)\n",
    "plt.show()"
   ]
  },
  {
   "cell_type": "markdown",
   "id": "16c64467-ca70-4fda-ad68-4d6dac5a22e0",
   "metadata": {},
   "source": [
    "## The best number of hidden layers is 4 which gave the lowest rmse while maintaining the lowest complixity.\n",
    "## After that increasing the model complexity caused some kind of underfitting after 9 hidden layers"
   ]
  },
  {
   "cell_type": "markdown",
   "id": "3bd1fbc1-7f4d-4cad-af25-87269be5bb45",
   "metadata": {},
   "source": [
    "# Part 3\n",
    "### Try to optimize the feed-forward neural network built in 2 to reach the best possible accuracy by tune\n",
    "### a. Overfitting avoiding i.e. early stopping, L1 and L2 regularization (try several values of λ), max-norm, and dropout\n",
    "### b. Vanishing gradient overcoming, i.e. parameter initialization, none saturation activation function, batch normalization, and gradient clipping.\n",
    "### c. The optimizer and its hyperparameters\n",
    "### d. The number of neurons of the hidden layers.\n",
    "### e. The mini-batches of training\n",
    "### f. Activation function for the hidden layers (i.e. tanh, ReLU, linear, etc.)"
   ]
  },
  {
   "cell_type": "code",
   "execution_count": 6,
   "id": "f6ce7a42-6c18-4131-8265-522c1698bfe9",
   "metadata": {
    "tags": []
   },
   "outputs": [
    {
     "name": "stdout",
     "output_type": "stream",
     "text": [
      "Training RMSE: 24.9885, Validation RMSE: 25.6450, Test RMSE: 24.6139 with L1=0.01, L2=0.01, Dropout=0.2, Max-norm=3\n",
      "Training RMSE: 24.9841, Validation RMSE: 25.6394, Test RMSE: 24.6087 with L1=0.01, L2=0.01, Dropout=0.2, Max-norm=4\n",
      "Training RMSE: 24.9926, Validation RMSE: 25.6553, Test RMSE: 24.6219 with L1=0.01, L2=0.01, Dropout=0.3, Max-norm=3\n",
      "Training RMSE: 24.9929, Validation RMSE: 25.6555, Test RMSE: 24.6221 with L1=0.01, L2=0.01, Dropout=0.3, Max-norm=4\n",
      "Training RMSE: 24.9947, Validation RMSE: 25.6625, Test RMSE: 24.6271 with L1=0.01, L2=0.01, Dropout=0.4, Max-norm=3\n",
      "Training RMSE: 25.0020, Validation RMSE: 25.6723, Test RMSE: 24.6361 with L1=0.01, L2=0.01, Dropout=0.4, Max-norm=4\n",
      "Training RMSE: 24.9839, Validation RMSE: 25.6403, Test RMSE: 24.6092 with L1=0.001, L2=0.01, Dropout=0.2, Max-norm=3\n",
      "Training RMSE: 24.9837, Validation RMSE: 25.6408, Test RMSE: 24.6094 with L1=0.001, L2=0.01, Dropout=0.2, Max-norm=4\n",
      "Training RMSE: 24.9861, Validation RMSE: 25.6471, Test RMSE: 24.6142 with L1=0.001, L2=0.01, Dropout=0.3, Max-norm=3\n",
      "Training RMSE: 24.9908, Validation RMSE: 25.6542, Test RMSE: 24.6205 with L1=0.001, L2=0.01, Dropout=0.3, Max-norm=4\n",
      "Training RMSE: 24.9945, Validation RMSE: 25.6624, Test RMSE: 24.6270 with L1=0.001, L2=0.01, Dropout=0.4, Max-norm=3\n",
      "Training RMSE: 24.9959, Validation RMSE: 25.6641, Test RMSE: 24.6286 with L1=0.001, L2=0.01, Dropout=0.4, Max-norm=4\n",
      "Training RMSE: 24.9854, Validation RMSE: 25.6411, Test RMSE: 24.6102 with L1=0.01, L2=0.001, Dropout=0.2, Max-norm=3\n",
      "Training RMSE: 24.9846, Validation RMSE: 25.6393, Test RMSE: 24.6088 with L1=0.01, L2=0.001, Dropout=0.2, Max-norm=4\n",
      "Training RMSE: 24.9924, Validation RMSE: 25.6547, Test RMSE: 24.6214 with L1=0.01, L2=0.001, Dropout=0.3, Max-norm=3\n",
      "Training RMSE: 24.9885, Validation RMSE: 25.6477, Test RMSE: 24.6156 with L1=0.01, L2=0.001, Dropout=0.3, Max-norm=4\n"
     ]
    },
    {
     "ename": "InvalidArgumentError",
     "evalue": "Graph execution error:\n\nDetected at node RMSprop/RMSprop/update_2/Maximum defined at (most recent call last):\n  File \"/Users/alaaodeh/miniforge3/lib/python3.10/runpy.py\", line 196, in _run_module_as_main\n\n  File \"/Users/alaaodeh/miniforge3/lib/python3.10/runpy.py\", line 86, in _run_code\n\n  File \"/Users/alaaodeh/miniforge3/lib/python3.10/site-packages/ipykernel_launcher.py\", line 17, in <module>\n\n  File \"/Users/alaaodeh/miniforge3/lib/python3.10/site-packages/traitlets/config/application.py\", line 992, in launch_instance\n\n  File \"/Users/alaaodeh/miniforge3/lib/python3.10/site-packages/ipykernel/kernelapp.py\", line 736, in start\n\n  File \"/Users/alaaodeh/miniforge3/lib/python3.10/site-packages/tornado/platform/asyncio.py\", line 195, in start\n\n  File \"/Users/alaaodeh/miniforge3/lib/python3.10/asyncio/base_events.py\", line 603, in run_forever\n\n  File \"/Users/alaaodeh/miniforge3/lib/python3.10/asyncio/base_events.py\", line 1909, in _run_once\n\n  File \"/Users/alaaodeh/miniforge3/lib/python3.10/asyncio/events.py\", line 80, in _run\n\n  File \"/Users/alaaodeh/miniforge3/lib/python3.10/site-packages/ipykernel/kernelbase.py\", line 516, in dispatch_queue\n\n  File \"/Users/alaaodeh/miniforge3/lib/python3.10/site-packages/ipykernel/kernelbase.py\", line 505, in process_one\n\n  File \"/Users/alaaodeh/miniforge3/lib/python3.10/site-packages/ipykernel/kernelbase.py\", line 412, in dispatch_shell\n\n  File \"/Users/alaaodeh/miniforge3/lib/python3.10/site-packages/ipykernel/kernelbase.py\", line 740, in execute_request\n\n  File \"/Users/alaaodeh/miniforge3/lib/python3.10/site-packages/ipykernel/ipkernel.py\", line 422, in do_execute\n\n  File \"/Users/alaaodeh/miniforge3/lib/python3.10/site-packages/ipykernel/zmqshell.py\", line 546, in run_cell\n\n  File \"/Users/alaaodeh/miniforge3/lib/python3.10/site-packages/IPython/core/interactiveshell.py\", line 3024, in run_cell\n\n  File \"/Users/alaaodeh/miniforge3/lib/python3.10/site-packages/IPython/core/interactiveshell.py\", line 3079, in _run_cell\n\n  File \"/Users/alaaodeh/miniforge3/lib/python3.10/site-packages/IPython/core/async_helpers.py\", line 129, in _pseudo_sync_runner\n\n  File \"/Users/alaaodeh/miniforge3/lib/python3.10/site-packages/IPython/core/interactiveshell.py\", line 3284, in run_cell_async\n\n  File \"/Users/alaaodeh/miniforge3/lib/python3.10/site-packages/IPython/core/interactiveshell.py\", line 3466, in run_ast_nodes\n\n  File \"/Users/alaaodeh/miniforge3/lib/python3.10/site-packages/IPython/core/interactiveshell.py\", line 3526, in run_code\n\n  File \"/var/folders/4b/06ymqbhd3c785p2vvkrn8r5m0000gn/T/ipykernel_6205/41716039.py\", line 37, in <module>\n\n  File \"/Users/alaaodeh/miniforge3/lib/python3.10/site-packages/keras/src/utils/traceback_utils.py\", line 65, in error_handler\n\n  File \"/Users/alaaodeh/miniforge3/lib/python3.10/site-packages/keras/src/engine/training.py\", line 1807, in fit\n\n  File \"/Users/alaaodeh/miniforge3/lib/python3.10/site-packages/keras/src/engine/training.py\", line 1401, in train_function\n\n  File \"/Users/alaaodeh/miniforge3/lib/python3.10/site-packages/keras/src/engine/training.py\", line 1384, in step_function\n\n  File \"/Users/alaaodeh/miniforge3/lib/python3.10/site-packages/keras/src/engine/training.py\", line 1373, in run_step\n\n  File \"/Users/alaaodeh/miniforge3/lib/python3.10/site-packages/keras/src/engine/training.py\", line 1154, in train_step\n\n  File \"/Users/alaaodeh/miniforge3/lib/python3.10/site-packages/keras/src/optimizers/legacy/optimizer_v2.py\", line 601, in minimize\n\n  File \"/Users/alaaodeh/miniforge3/lib/python3.10/site-packages/keras/src/optimizers/legacy/optimizer_v2.py\", line 760, in apply_gradients\n\n  File \"/Users/alaaodeh/miniforge3/lib/python3.10/site-packages/keras/src/optimizers/legacy/optimizer_v2.py\", line 819, in _distributed_apply\n\n  File \"/Users/alaaodeh/miniforge3/lib/python3.10/site-packages/keras/src/optimizers/legacy/optimizer_v2.py\", line 801, in apply_grad_to_update_var\n\n  File \"/Users/alaaodeh/miniforge3/lib/python3.10/site-packages/keras/src/constraints.py\", line 137, in __call__\n\n  File \"/Users/alaaodeh/miniforge3/lib/python3.10/site-packages/keras/src/backend.py\", line 3040, in sqrt\n\nIncompatible shapes: [1,10] vs. [0]\n\t [[{{node RMSprop/RMSprop/update_2/Maximum}}]] [Op:__inference_train_function_3278963]",
     "output_type": "error",
     "traceback": [
      "\u001b[0;31m---------------------------------------------------------------------------\u001b[0m",
      "\u001b[0;31mInvalidArgumentError\u001b[0m                      Traceback (most recent call last)",
      "Cell \u001b[0;32mIn[6], line 37\u001b[0m\n\u001b[1;32m     35\u001b[0m model \u001b[38;5;241m=\u001b[39m create_model(l1_reg, l2_reg, dropout_rate, max_norm)\n\u001b[1;32m     36\u001b[0m model\u001b[38;5;241m.\u001b[39mcompile(loss\u001b[38;5;241m=\u001b[39m\u001b[38;5;124m'\u001b[39m\u001b[38;5;124mmse\u001b[39m\u001b[38;5;124m'\u001b[39m)\n\u001b[0;32m---> 37\u001b[0m history \u001b[38;5;241m=\u001b[39m \u001b[43mmodel\u001b[49m\u001b[38;5;241;43m.\u001b[39;49m\u001b[43mfit\u001b[49m\u001b[43m(\u001b[49m\u001b[43mX_train\u001b[49m\u001b[43m,\u001b[49m\u001b[43m \u001b[49m\u001b[43mY_train\u001b[49m\u001b[43m,\u001b[49m\u001b[43m \u001b[49m\u001b[43mepochs\u001b[49m\u001b[38;5;241;43m=\u001b[39;49m\u001b[38;5;241;43m100\u001b[39;49m\u001b[43m,\u001b[49m\u001b[43m \u001b[49m\u001b[43mvalidation_data\u001b[49m\u001b[38;5;241;43m=\u001b[39;49m\u001b[43m(\u001b[49m\u001b[43mX_val\u001b[49m\u001b[43m,\u001b[49m\u001b[43m \u001b[49m\u001b[43mY_val\u001b[49m\u001b[43m)\u001b[49m\u001b[43m,\u001b[49m\u001b[43m \u001b[49m\u001b[43mverbose\u001b[49m\u001b[38;5;241;43m=\u001b[39;49m\u001b[38;5;241;43m0\u001b[39;49m\u001b[43m,\u001b[49m\u001b[43m \u001b[49m\u001b[43mcallbacks\u001b[49m\u001b[38;5;241;43m=\u001b[39;49m\u001b[43m[\u001b[49m\u001b[43mearly_stopping\u001b[49m\u001b[43m]\u001b[49m\u001b[43m)\u001b[49m\n\u001b[1;32m     39\u001b[0m \u001b[38;5;66;03m# Evaluate the model\u001b[39;00m\n\u001b[1;32m     40\u001b[0m train_rmse \u001b[38;5;241m=\u001b[39m np\u001b[38;5;241m.\u001b[39msqrt(model\u001b[38;5;241m.\u001b[39mevaluate(X_train, Y_train, verbose\u001b[38;5;241m=\u001b[39m\u001b[38;5;241m0\u001b[39m))\n",
      "File \u001b[0;32m~/miniforge3/lib/python3.10/site-packages/keras/src/utils/traceback_utils.py:70\u001b[0m, in \u001b[0;36mfilter_traceback.<locals>.error_handler\u001b[0;34m(*args, **kwargs)\u001b[0m\n\u001b[1;32m     67\u001b[0m     filtered_tb \u001b[38;5;241m=\u001b[39m _process_traceback_frames(e\u001b[38;5;241m.\u001b[39m__traceback__)\n\u001b[1;32m     68\u001b[0m     \u001b[38;5;66;03m# To get the full stack trace, call:\u001b[39;00m\n\u001b[1;32m     69\u001b[0m     \u001b[38;5;66;03m# `tf.debugging.disable_traceback_filtering()`\u001b[39;00m\n\u001b[0;32m---> 70\u001b[0m     \u001b[38;5;28;01mraise\u001b[39;00m e\u001b[38;5;241m.\u001b[39mwith_traceback(filtered_tb) \u001b[38;5;28;01mfrom\u001b[39;00m \u001b[38;5;28;01mNone\u001b[39;00m\n\u001b[1;32m     71\u001b[0m \u001b[38;5;28;01mfinally\u001b[39;00m:\n\u001b[1;32m     72\u001b[0m     \u001b[38;5;28;01mdel\u001b[39;00m filtered_tb\n",
      "File \u001b[0;32m~/miniforge3/lib/python3.10/site-packages/tensorflow/python/eager/execute.py:53\u001b[0m, in \u001b[0;36mquick_execute\u001b[0;34m(op_name, num_outputs, inputs, attrs, ctx, name)\u001b[0m\n\u001b[1;32m     51\u001b[0m \u001b[38;5;28;01mtry\u001b[39;00m:\n\u001b[1;32m     52\u001b[0m   ctx\u001b[38;5;241m.\u001b[39mensure_initialized()\n\u001b[0;32m---> 53\u001b[0m   tensors \u001b[38;5;241m=\u001b[39m pywrap_tfe\u001b[38;5;241m.\u001b[39mTFE_Py_Execute(ctx\u001b[38;5;241m.\u001b[39m_handle, device_name, op_name,\n\u001b[1;32m     54\u001b[0m                                       inputs, attrs, num_outputs)\n\u001b[1;32m     55\u001b[0m \u001b[38;5;28;01mexcept\u001b[39;00m core\u001b[38;5;241m.\u001b[39m_NotOkStatusException \u001b[38;5;28;01mas\u001b[39;00m e:\n\u001b[1;32m     56\u001b[0m   \u001b[38;5;28;01mif\u001b[39;00m name \u001b[38;5;129;01mis\u001b[39;00m \u001b[38;5;129;01mnot\u001b[39;00m \u001b[38;5;28;01mNone\u001b[39;00m:\n",
      "\u001b[0;31mInvalidArgumentError\u001b[0m: Graph execution error:\n\nDetected at node RMSprop/RMSprop/update_2/Maximum defined at (most recent call last):\n  File \"/Users/alaaodeh/miniforge3/lib/python3.10/runpy.py\", line 196, in _run_module_as_main\n\n  File \"/Users/alaaodeh/miniforge3/lib/python3.10/runpy.py\", line 86, in _run_code\n\n  File \"/Users/alaaodeh/miniforge3/lib/python3.10/site-packages/ipykernel_launcher.py\", line 17, in <module>\n\n  File \"/Users/alaaodeh/miniforge3/lib/python3.10/site-packages/traitlets/config/application.py\", line 992, in launch_instance\n\n  File \"/Users/alaaodeh/miniforge3/lib/python3.10/site-packages/ipykernel/kernelapp.py\", line 736, in start\n\n  File \"/Users/alaaodeh/miniforge3/lib/python3.10/site-packages/tornado/platform/asyncio.py\", line 195, in start\n\n  File \"/Users/alaaodeh/miniforge3/lib/python3.10/asyncio/base_events.py\", line 603, in run_forever\n\n  File \"/Users/alaaodeh/miniforge3/lib/python3.10/asyncio/base_events.py\", line 1909, in _run_once\n\n  File \"/Users/alaaodeh/miniforge3/lib/python3.10/asyncio/events.py\", line 80, in _run\n\n  File \"/Users/alaaodeh/miniforge3/lib/python3.10/site-packages/ipykernel/kernelbase.py\", line 516, in dispatch_queue\n\n  File \"/Users/alaaodeh/miniforge3/lib/python3.10/site-packages/ipykernel/kernelbase.py\", line 505, in process_one\n\n  File \"/Users/alaaodeh/miniforge3/lib/python3.10/site-packages/ipykernel/kernelbase.py\", line 412, in dispatch_shell\n\n  File \"/Users/alaaodeh/miniforge3/lib/python3.10/site-packages/ipykernel/kernelbase.py\", line 740, in execute_request\n\n  File \"/Users/alaaodeh/miniforge3/lib/python3.10/site-packages/ipykernel/ipkernel.py\", line 422, in do_execute\n\n  File \"/Users/alaaodeh/miniforge3/lib/python3.10/site-packages/ipykernel/zmqshell.py\", line 546, in run_cell\n\n  File \"/Users/alaaodeh/miniforge3/lib/python3.10/site-packages/IPython/core/interactiveshell.py\", line 3024, in run_cell\n\n  File \"/Users/alaaodeh/miniforge3/lib/python3.10/site-packages/IPython/core/interactiveshell.py\", line 3079, in _run_cell\n\n  File \"/Users/alaaodeh/miniforge3/lib/python3.10/site-packages/IPython/core/async_helpers.py\", line 129, in _pseudo_sync_runner\n\n  File \"/Users/alaaodeh/miniforge3/lib/python3.10/site-packages/IPython/core/interactiveshell.py\", line 3284, in run_cell_async\n\n  File \"/Users/alaaodeh/miniforge3/lib/python3.10/site-packages/IPython/core/interactiveshell.py\", line 3466, in run_ast_nodes\n\n  File \"/Users/alaaodeh/miniforge3/lib/python3.10/site-packages/IPython/core/interactiveshell.py\", line 3526, in run_code\n\n  File \"/var/folders/4b/06ymqbhd3c785p2vvkrn8r5m0000gn/T/ipykernel_6205/41716039.py\", line 37, in <module>\n\n  File \"/Users/alaaodeh/miniforge3/lib/python3.10/site-packages/keras/src/utils/traceback_utils.py\", line 65, in error_handler\n\n  File \"/Users/alaaodeh/miniforge3/lib/python3.10/site-packages/keras/src/engine/training.py\", line 1807, in fit\n\n  File \"/Users/alaaodeh/miniforge3/lib/python3.10/site-packages/keras/src/engine/training.py\", line 1401, in train_function\n\n  File \"/Users/alaaodeh/miniforge3/lib/python3.10/site-packages/keras/src/engine/training.py\", line 1384, in step_function\n\n  File \"/Users/alaaodeh/miniforge3/lib/python3.10/site-packages/keras/src/engine/training.py\", line 1373, in run_step\n\n  File \"/Users/alaaodeh/miniforge3/lib/python3.10/site-packages/keras/src/engine/training.py\", line 1154, in train_step\n\n  File \"/Users/alaaodeh/miniforge3/lib/python3.10/site-packages/keras/src/optimizers/legacy/optimizer_v2.py\", line 601, in minimize\n\n  File \"/Users/alaaodeh/miniforge3/lib/python3.10/site-packages/keras/src/optimizers/legacy/optimizer_v2.py\", line 760, in apply_gradients\n\n  File \"/Users/alaaodeh/miniforge3/lib/python3.10/site-packages/keras/src/optimizers/legacy/optimizer_v2.py\", line 819, in _distributed_apply\n\n  File \"/Users/alaaodeh/miniforge3/lib/python3.10/site-packages/keras/src/optimizers/legacy/optimizer_v2.py\", line 801, in apply_grad_to_update_var\n\n  File \"/Users/alaaodeh/miniforge3/lib/python3.10/site-packages/keras/src/constraints.py\", line 137, in __call__\n\n  File \"/Users/alaaodeh/miniforge3/lib/python3.10/site-packages/keras/src/backend.py\", line 3040, in sqrt\n\nIncompatible shapes: [1,10] vs. [0]\n\t [[{{node RMSprop/RMSprop/update_2/Maximum}}]] [Op:__inference_train_function_3278963]"
     ]
    }
   ],
   "source": [
    "X_train, X_val, Y_train, Y_val = train_test_split(X_train, Y_train, test_size=0.2, random_state=42)\n",
    "\n",
    "def create_model(l1_reg, l2_reg, dropout_rate, max_norm_value):\n",
    "    model = tf.keras.Sequential([\n",
    "        tf.keras.layers.Dense(10, activation='sigmoid', input_shape=(2,),\n",
    "                              kernel_regularizer=tf.keras.regularizers.l1_l2(l1=l1_reg, l2=l2_reg),\n",
    "                              kernel_constraint=tf.keras.constraints.MaxNorm(max_value=max_norm_value)),\n",
    "        tf.keras.layers.Dropout(dropout_rate),\n",
    "        tf.keras.layers.Dense(10, activation='sigmoid',\n",
    "                              kernel_regularizer=tf.keras.regularizers.l1_l2(l1=l1_reg, l2=l2_reg),\n",
    "                              kernel_constraint=tf.keras.constraints.MaxNorm(max_value=max_norm_value)),\n",
    "        tf.keras.layers.Dropout(dropout_rate),\n",
    "        tf.keras.layers.Dense(10, activation='sigmoid',\n",
    "                              kernel_regularizer=tf.keras.regularizers.l1_l2(l1=l1_reg, l2=l2_reg),\n",
    "                              kernel_constraint=tf.keras.constraints.MaxNorm(max_value=max_norm_value)),\n",
    "        tf.keras.layers.Dropout(dropout_rate),\n",
    "        tf.keras.layers.Dense(10, activation='sigmoid',\n",
    "                              kernel_regularizer=tf.keras.regularizers.l1_l2(l1=l1_reg, l2=l2_reg),\n",
    "                              kernel_constraint=tf.keras.constraints.MaxNorm(max_value=max_norm_value)),\n",
    "        tf.keras.layers.Dropout(dropout_rate),\n",
    "        tf.keras.layers.Dense(1, activation='linear')\n",
    "    ])\n",
    "    return model\n",
    "\n",
    "early_stopping = tf.keras.callbacks.EarlyStopping(monitor='val_loss', patience=10, restore_best_weights=True)\n",
    "regularization_params = [(0.01, 0.01), (0.001, 0.01), (0.01, 0.001)]\n",
    "dropout_rates = [0.2, 0.3, 0.4]\n",
    "max_norm_params= [3,4]\n",
    "\n",
    "best_model = 0\n",
    "lowest_rmse = 1000000\n",
    "for l1_reg, l2_reg in regularization_params:\n",
    "    for dropout_rate in dropout_rates:\n",
    "        for max_norm in max_norm_params:\n",
    "            model = create_model(l1_reg, l2_reg, dropout_rate, max_norm)\n",
    "            model.compile(loss='mse')\n",
    "            history = model.fit(X_train, Y_train, epochs=100, validation_data=(X_val, Y_val), verbose=0, callbacks=[early_stopping])\n",
    "\n",
    "            # Evaluate the model\n",
    "            train_rmse = np.sqrt(model.evaluate(X_train, Y_train, verbose=0))\n",
    "            val_rmse = np.sqrt(model.evaluate(X_val, Y_val, verbose=0))\n",
    "            test_rmse = np.sqrt(model.evaluate(X_test, Y_test, verbose=0))\n",
    "            \n",
    "            if test_rmse < lowest_rmse:\n",
    "                best_model = model\n",
    "\n",
    "            print(f\"Training RMSE: {train_rmse:.4f}, Validation RMSE: {val_rmse:.4f}, Test RMSE: {test_rmse:.4f} with L1={l1_reg}, L2={l2_reg}, Dropout={dropout_rate}, Max-norm={max_norm}\")\n"
   ]
  },
  {
   "cell_type": "code",
   "execution_count": 73,
   "id": "7fff4fa0-e0d8-4fac-87e6-401af4d2b334",
   "metadata": {
    "tags": []
   },
   "outputs": [
    {
     "data": {
      "text/plain": [
       "215"
      ]
     },
     "execution_count": 73,
     "metadata": {},
     "output_type": "execute_result"
    }
   ],
   "source": [
    "len(Y_val)"
   ]
  },
  {
   "cell_type": "code",
   "execution_count": 14,
   "id": "8e402901-8569-4905-9ab1-d884aa247a4d",
   "metadata": {
    "tags": []
   },
   "outputs": [
    {
     "data": {
      "text/plain": [
       "array([ 0.36192387, -0.25395247], dtype=float32)"
      ]
     },
     "execution_count": 14,
     "metadata": {},
     "output_type": "execute_result"
    }
   ],
   "source": [
    "X_train[0]"
   ]
  },
  {
   "cell_type": "code",
   "execution_count": 8,
   "id": "3b162d10-f4e8-47bb-b401-54909b13e145",
   "metadata": {
    "tags": []
   },
   "outputs": [
    {
     "data": {
      "text/plain": [
       "array([ 54.931316 , 132.98552  ,  14.104847 , ...,  12.71713  ,\n",
       "         7.3315573,  51.191006 ], dtype=float32)"
      ]
     },
     "execution_count": 8,
     "metadata": {},
     "output_type": "execute_result"
    }
   ],
   "source": [
    "Y_train"
   ]
  },
  {
   "cell_type": "code",
   "execution_count": null,
   "id": "f683e2ed-c3cf-4600-9595-9bb4cc2271a9",
   "metadata": {},
   "outputs": [],
   "source": []
  }
 ],
 "metadata": {
  "kernelspec": {
   "display_name": "Python 3 (ipykernel)",
   "language": "python",
   "name": "python3"
  },
  "language_info": {
   "codemirror_mode": {
    "name": "ipython",
    "version": 3
   },
   "file_extension": ".py",
   "mimetype": "text/x-python",
   "name": "python",
   "nbconvert_exporter": "python",
   "pygments_lexer": "ipython3",
   "version": "3.10.12"
  }
 },
 "nbformat": 4,
 "nbformat_minor": 5
}
